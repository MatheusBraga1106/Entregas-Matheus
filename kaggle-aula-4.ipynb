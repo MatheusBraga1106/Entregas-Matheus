{
 "cells": [
  {
   "cell_type": "markdown",
   "id": "719ee6d6",
   "metadata": {
    "papermill": {
     "duration": 0.010081,
     "end_time": "2024-03-31T19:28:49.440769",
     "exception": false,
     "start_time": "2024-03-31T19:28:49.430688",
     "status": "completed"
    },
    "tags": []
   },
   "source": [
    "<hr style=\"height:10px\"> \n",
    " \n",
    "<div class='container2'>\n",
    "\t\t<div>\n",
    "\t\t\t<img src=\"https://assets-global.website-files.com/5fc212183117036dc3c635d0/611f5ebe2709f0744c0f4413_Sourcing%20talent%20on%20Kaggle%20image.png\" alt=\"Descrição da imagem\" width=\"200\" height=\"200\" ALIGN='left'>\n",
    "\t\t</div>\t\n",
    "\t<div style='padding: 0 8em 5em 12em;'>\n",
    "\t<h1>Laboratório de Inovação e Automação 1 (LIA 1)</h1>\n",
    "\t<div style=\"font-size:12pt;float:left;\"> 2024/1 | 24M34 | Sala 200 CAE</div><br><br>\n",
    "    <div style=\"font-size:12pt;float:left;\"><b>Projetos de Inteligência Artificial</b></div>\n",
    "\t</div>\n",
    "</div>\n",
    "\n",
    "\n",
    " <hr style=\"height:10px\"> \n",
    "\n",
    "    \n",
    "<h2>Introdução ao Ambiente de Projetos - Python</h2>\n",
    "\n",
    "Notebook desenvolvido por: <a href=\"https://github.com/MatheusBraga1106\">Matheus Braga</a>\n",
    "\n",
    " <hr style=\"height:5px\"> \n"
   ]
  },
  {
   "cell_type": "markdown",
   "id": "9287181a",
   "metadata": {
    "papermill": {
     "duration": 0.009287,
     "end_time": "2024-03-31T19:28:49.460283",
     "exception": false,
     "start_time": "2024-03-31T19:28:49.450996",
     "status": "completed"
    },
    "tags": []
   },
   "source": [
    "[Tudo sobre o Python, clique aqui!](https://docs.python.org/pt-br/3/tutorial/)"
   ]
  },
  {
   "cell_type": "code",
   "execution_count": null,
   "id": "6d4451da",
   "metadata": {
    "papermill": {
     "duration": 0.009734,
     "end_time": "2024-03-31T19:28:49.479454",
     "exception": false,
     "start_time": "2024-03-31T19:28:49.469720",
     "status": "completed"
    },
    "tags": []
   },
   "outputs": [],
   "source": []
  },
  {
   "cell_type": "code",
   "execution_count": 1,
   "id": "d527566a",
   "metadata": {
    "execution": {
     "iopub.execute_input": "2024-03-31T19:28:49.501184Z",
     "iopub.status.busy": "2024-03-31T19:28:49.500427Z",
     "iopub.status.idle": "2024-03-31T19:28:49.514842Z",
     "shell.execute_reply": "2024-03-31T19:28:49.513325Z"
    },
    "papermill": {
     "duration": 0.028204,
     "end_time": "2024-03-31T19:28:49.517268",
     "exception": false,
     "start_time": "2024-03-31T19:28:49.489064",
     "status": "completed"
    },
    "tags": []
   },
   "outputs": [
    {
     "name": "stdout",
     "output_type": "stream",
     "text": [
      "A versão em uso é 3.10.13.\n"
     ]
    }
   ],
   "source": [
    "from platform import python_version\n",
    "print(f'A versão em uso é {python_version()}.')"
   ]
  },
  {
   "cell_type": "code",
   "execution_count": 2,
   "id": "3254caf0",
   "metadata": {
    "execution": {
     "iopub.execute_input": "2024-03-31T19:28:49.540007Z",
     "iopub.status.busy": "2024-03-31T19:28:49.539308Z",
     "iopub.status.idle": "2024-03-31T19:28:49.546920Z",
     "shell.execute_reply": "2024-03-31T19:28:49.545873Z"
    },
    "papermill": {
     "duration": 0.021827,
     "end_time": "2024-03-31T19:28:49.549419",
     "exception": false,
     "start_time": "2024-03-31T19:28:49.527592",
     "status": "completed"
    },
    "tags": []
   },
   "outputs": [
    {
     "data": {
      "text/plain": [
       "'3.10.13'"
      ]
     },
     "execution_count": 2,
     "metadata": {},
     "output_type": "execute_result"
    }
   ],
   "source": [
    "python_version()"
   ]
  },
  {
   "cell_type": "code",
   "execution_count": 3,
   "id": "2e1b7667",
   "metadata": {
    "execution": {
     "iopub.execute_input": "2024-03-31T19:28:49.571096Z",
     "iopub.status.busy": "2024-03-31T19:28:49.570650Z",
     "iopub.status.idle": "2024-03-31T19:28:49.575843Z",
     "shell.execute_reply": "2024-03-31T19:28:49.574701Z"
    },
    "papermill": {
     "duration": 0.020532,
     "end_time": "2024-03-31T19:28:49.579643",
     "exception": false,
     "start_time": "2024-03-31T19:28:49.559111",
     "status": "completed"
    },
    "tags": []
   },
   "outputs": [
    {
     "name": "stdout",
     "output_type": "stream",
     "text": [
      "Bye bye, World!\n"
     ]
    }
   ],
   "source": [
    "# Verificar se o Python está funcionando\n",
    "print('Bye bye, World!')"
   ]
  },
  {
   "cell_type": "markdown",
   "id": "1c924bd8",
   "metadata": {
    "papermill": {
     "duration": 0.009608,
     "end_time": "2024-03-31T19:28:49.599120",
     "exception": false,
     "start_time": "2024-03-31T19:28:49.589512",
     "status": "completed"
    },
    "tags": []
   },
   "source": [
    "#### Operadores Aritméticos"
   ]
  },
  {
   "cell_type": "code",
   "execution_count": 4,
   "id": "e657bf93",
   "metadata": {
    "execution": {
     "iopub.execute_input": "2024-03-31T19:28:49.621935Z",
     "iopub.status.busy": "2024-03-31T19:28:49.621514Z",
     "iopub.status.idle": "2024-03-31T19:28:49.628516Z",
     "shell.execute_reply": "2024-03-31T19:28:49.627217Z"
    },
    "papermill": {
     "duration": 0.022048,
     "end_time": "2024-03-31T19:28:49.631023",
     "exception": false,
     "start_time": "2024-03-31T19:28:49.608975",
     "status": "completed"
    },
    "tags": []
   },
   "outputs": [
    {
     "data": {
      "text/plain": [
       "2"
      ]
     },
     "execution_count": 4,
     "metadata": {},
     "output_type": "execute_result"
    }
   ],
   "source": [
    "# Adição\n",
    "1 + 1"
   ]
  },
  {
   "cell_type": "code",
   "execution_count": 5,
   "id": "6b07ad32",
   "metadata": {
    "execution": {
     "iopub.execute_input": "2024-03-31T19:28:49.653857Z",
     "iopub.status.busy": "2024-03-31T19:28:49.653042Z",
     "iopub.status.idle": "2024-03-31T19:28:49.660286Z",
     "shell.execute_reply": "2024-03-31T19:28:49.658972Z"
    },
    "papermill": {
     "duration": 0.021432,
     "end_time": "2024-03-31T19:28:49.662704",
     "exception": false,
     "start_time": "2024-03-31T19:28:49.641272",
     "status": "completed"
    },
    "tags": []
   },
   "outputs": [
    {
     "data": {
      "text/plain": [
       "1"
      ]
     },
     "execution_count": 5,
     "metadata": {},
     "output_type": "execute_result"
    }
   ],
   "source": [
    "# Subtração\n",
    "2 - 1"
   ]
  },
  {
   "cell_type": "code",
   "execution_count": 6,
   "id": "55915653",
   "metadata": {
    "execution": {
     "iopub.execute_input": "2024-03-31T19:28:49.685784Z",
     "iopub.status.busy": "2024-03-31T19:28:49.685376Z",
     "iopub.status.idle": "2024-03-31T19:28:49.691604Z",
     "shell.execute_reply": "2024-03-31T19:28:49.690440Z"
    },
    "papermill": {
     "duration": 0.021205,
     "end_time": "2024-03-31T19:28:49.694604",
     "exception": false,
     "start_time": "2024-03-31T19:28:49.673399",
     "status": "completed"
    },
    "tags": []
   },
   "outputs": [
    {
     "data": {
      "text/plain": [
       "4"
      ]
     },
     "execution_count": 6,
     "metadata": {},
     "output_type": "execute_result"
    }
   ],
   "source": [
    "# Multiplicação\n",
    "2 * 2"
   ]
  },
  {
   "cell_type": "code",
   "execution_count": 7,
   "id": "170c9743",
   "metadata": {
    "execution": {
     "iopub.execute_input": "2024-03-31T19:28:49.718390Z",
     "iopub.status.busy": "2024-03-31T19:28:49.717932Z",
     "iopub.status.idle": "2024-03-31T19:28:49.724757Z",
     "shell.execute_reply": "2024-03-31T19:28:49.723497Z"
    },
    "papermill": {
     "duration": 0.021698,
     "end_time": "2024-03-31T19:28:49.726921",
     "exception": false,
     "start_time": "2024-03-31T19:28:49.705223",
     "status": "completed"
    },
    "tags": []
   },
   "outputs": [
    {
     "data": {
      "text/plain": [
       "1.5"
      ]
     },
     "execution_count": 7,
     "metadata": {},
     "output_type": "execute_result"
    }
   ],
   "source": [
    "# Divisão\n",
    "3 / 2"
   ]
  },
  {
   "cell_type": "code",
   "execution_count": 8,
   "id": "9ea4b5a8",
   "metadata": {
    "execution": {
     "iopub.execute_input": "2024-03-31T19:28:49.749599Z",
     "iopub.status.busy": "2024-03-31T19:28:49.749136Z",
     "iopub.status.idle": "2024-03-31T19:28:49.755711Z",
     "shell.execute_reply": "2024-03-31T19:28:49.754562Z"
    },
    "papermill": {
     "duration": 0.020939,
     "end_time": "2024-03-31T19:28:49.758423",
     "exception": false,
     "start_time": "2024-03-31T19:28:49.737484",
     "status": "completed"
    },
    "tags": []
   },
   "outputs": [
    {
     "data": {
      "text/plain": [
       "16"
      ]
     },
     "execution_count": 8,
     "metadata": {},
     "output_type": "execute_result"
    }
   ],
   "source": [
    "# Potência\n",
    "4 ** 2"
   ]
  },
  {
   "cell_type": "code",
   "execution_count": 9,
   "id": "88184278",
   "metadata": {
    "execution": {
     "iopub.execute_input": "2024-03-31T19:28:49.781773Z",
     "iopub.status.busy": "2024-03-31T19:28:49.781331Z",
     "iopub.status.idle": "2024-03-31T19:28:49.788087Z",
     "shell.execute_reply": "2024-03-31T19:28:49.786956Z"
    },
    "papermill": {
     "duration": 0.021269,
     "end_time": "2024-03-31T19:28:49.790483",
     "exception": false,
     "start_time": "2024-03-31T19:28:49.769214",
     "status": "completed"
    },
    "tags": []
   },
   "outputs": [
    {
     "data": {
      "text/plain": [
       "1"
      ]
     },
     "execution_count": 9,
     "metadata": {},
     "output_type": "execute_result"
    }
   ],
   "source": [
    "# Módulo (resto da divisão)\n",
    "10 % 3"
   ]
  },
  {
   "cell_type": "markdown",
   "id": "7753fe38",
   "metadata": {
    "papermill": {
     "duration": 0.010746,
     "end_time": "2024-03-31T19:28:49.812091",
     "exception": false,
     "start_time": "2024-03-31T19:28:49.801345",
     "status": "completed"
    },
    "tags": []
   },
   "source": [
    "#### Tipo de Dados (Type)"
   ]
  },
  {
   "cell_type": "code",
   "execution_count": 10,
   "id": "664adaa8",
   "metadata": {
    "execution": {
     "iopub.execute_input": "2024-03-31T19:28:49.835914Z",
     "iopub.status.busy": "2024-03-31T19:28:49.835496Z",
     "iopub.status.idle": "2024-03-31T19:28:49.842265Z",
     "shell.execute_reply": "2024-03-31T19:28:49.841051Z"
    },
    "papermill": {
     "duration": 0.021378,
     "end_time": "2024-03-31T19:28:49.844458",
     "exception": false,
     "start_time": "2024-03-31T19:28:49.823080",
     "status": "completed"
    },
    "tags": []
   },
   "outputs": [
    {
     "data": {
      "text/plain": [
       "int"
      ]
     },
     "execution_count": 10,
     "metadata": {},
     "output_type": "execute_result"
    }
   ],
   "source": [
    "# Qual o tipo do (?) -> Inteiro\n",
    "type(5)"
   ]
  },
  {
   "cell_type": "code",
   "execution_count": 11,
   "id": "8210b20e",
   "metadata": {
    "execution": {
     "iopub.execute_input": "2024-03-31T19:28:49.868576Z",
     "iopub.status.busy": "2024-03-31T19:28:49.868133Z",
     "iopub.status.idle": "2024-03-31T19:28:49.874432Z",
     "shell.execute_reply": "2024-03-31T19:28:49.873298Z"
    },
    "papermill": {
     "duration": 0.021561,
     "end_time": "2024-03-31T19:28:49.877171",
     "exception": false,
     "start_time": "2024-03-31T19:28:49.855610",
     "status": "completed"
    },
    "tags": []
   },
   "outputs": [
    {
     "data": {
      "text/plain": [
       "float"
      ]
     },
     "execution_count": 11,
     "metadata": {},
     "output_type": "execute_result"
    }
   ],
   "source": [
    "# Qual o tipo do (?) -> Float - Decimal\n",
    "type(5.0)"
   ]
  },
  {
   "cell_type": "code",
   "execution_count": 12,
   "id": "56652b60",
   "metadata": {
    "execution": {
     "iopub.execute_input": "2024-03-31T19:28:49.901496Z",
     "iopub.status.busy": "2024-03-31T19:28:49.901047Z",
     "iopub.status.idle": "2024-03-31T19:28:49.907324Z",
     "shell.execute_reply": "2024-03-31T19:28:49.906463Z"
    },
    "papermill": {
     "duration": 0.021682,
     "end_time": "2024-03-31T19:28:49.909947",
     "exception": false,
     "start_time": "2024-03-31T19:28:49.888265",
     "status": "completed"
    },
    "tags": []
   },
   "outputs": [
    {
     "data": {
      "text/plain": [
       "str"
      ]
     },
     "execution_count": 12,
     "metadata": {},
     "output_type": "execute_result"
    }
   ],
   "source": [
    "# Qual o tipo do (?) -> String\n",
    "a = 'Estudando Python!'\n",
    "type(a)"
   ]
  },
  {
   "cell_type": "markdown",
   "id": "85124efb",
   "metadata": {
    "papermill": {
     "duration": 0.010781,
     "end_time": "2024-03-31T19:28:49.931906",
     "exception": false,
     "start_time": "2024-03-31T19:28:49.921125",
     "status": "completed"
    },
    "tags": []
   },
   "source": [
    "#### Condicional if"
   ]
  },
  {
   "cell_type": "code",
   "execution_count": 13,
   "id": "a3fbea0f",
   "metadata": {
    "execution": {
     "iopub.execute_input": "2024-03-31T19:28:49.957055Z",
     "iopub.status.busy": "2024-03-31T19:28:49.956653Z",
     "iopub.status.idle": "2024-03-31T19:28:49.962123Z",
     "shell.execute_reply": "2024-03-31T19:28:49.960990Z"
    },
    "papermill": {
     "duration": 0.02104,
     "end_time": "2024-03-31T19:28:49.964968",
     "exception": false,
     "start_time": "2024-03-31T19:28:49.943928",
     "status": "completed"
    },
    "tags": []
   },
   "outputs": [
    {
     "name": "stdout",
     "output_type": "stream",
     "text": [
      "A sentença é verdadeira!\n"
     ]
    }
   ],
   "source": [
    "# Condicional if (Se)\n",
    "if 5 > 2:\n",
    "    print(\"A sentença é verdadeira!\")"
   ]
  },
  {
   "cell_type": "code",
   "execution_count": 14,
   "id": "3d146dd4",
   "metadata": {
    "execution": {
     "iopub.execute_input": "2024-03-31T19:28:49.989684Z",
     "iopub.status.busy": "2024-03-31T19:28:49.989269Z",
     "iopub.status.idle": "2024-03-31T19:28:49.994921Z",
     "shell.execute_reply": "2024-03-31T19:28:49.993631Z"
    },
    "papermill": {
     "duration": 0.02167,
     "end_time": "2024-03-31T19:28:49.998014",
     "exception": false,
     "start_time": "2024-03-31T19:28:49.976344",
     "status": "completed"
    },
    "tags": []
   },
   "outputs": [
    {
     "name": "stdout",
     "output_type": "stream",
     "text": [
      "A sentença é falsa!\n"
     ]
    }
   ],
   "source": [
    "# Condicional if...else\n",
    "if 5 < 2:\n",
    "    print(\"A sentença é verdadeira!\")\n",
    "else:\n",
    "    print(\"A sentença é falsa!\")"
   ]
  },
  {
   "cell_type": "code",
   "execution_count": 15,
   "id": "0d99ddc8",
   "metadata": {
    "execution": {
     "iopub.execute_input": "2024-03-31T19:28:50.022706Z",
     "iopub.status.busy": "2024-03-31T19:28:50.022293Z",
     "iopub.status.idle": "2024-03-31T19:28:50.028097Z",
     "shell.execute_reply": "2024-03-31T19:28:50.026944Z"
    },
    "papermill": {
     "duration": 0.021635,
     "end_time": "2024-03-31T19:28:50.031029",
     "exception": false,
     "start_time": "2024-03-31T19:28:50.009394",
     "status": "completed"
    },
    "tags": []
   },
   "outputs": [
    {
     "name": "stdout",
     "output_type": "stream",
     "text": [
      "Hoje vai chover!\n"
     ]
    }
   ],
   "source": [
    "# Condicional if...else com variável\n",
    "dia = \"Quarta-feira\"\n",
    "if dia == \"Sexta-feira\":\n",
    "    print(\"Hoje fará sol!\")\n",
    "else:\n",
    "    print(\"Hoje vai chover!\")"
   ]
  },
  {
   "cell_type": "markdown",
   "id": "49adc90f",
   "metadata": {
    "papermill": {
     "duration": 0.01098,
     "end_time": "2024-03-31T19:28:50.053542",
     "exception": false,
     "start_time": "2024-03-31T19:28:50.042562",
     "status": "completed"
    },
    "tags": []
   },
   "source": [
    "#### Manipulando arquivos"
   ]
  },
  {
   "cell_type": "markdown",
   "id": "a6dcefdd",
   "metadata": {
    "papermill": {
     "duration": 0.01115,
     "end_time": "2024-03-31T19:28:50.076090",
     "exception": false,
     "start_time": "2024-03-31T19:28:50.064940",
     "status": "completed"
    },
    "tags": []
   },
   "source": [
    "#### Lendo arquivos (.txt)"
   ]
  },
  {
   "cell_type": "code",
   "execution_count": 16,
   "id": "e7b652e7",
   "metadata": {
    "execution": {
     "iopub.execute_input": "2024-03-31T19:28:50.100949Z",
     "iopub.status.busy": "2024-03-31T19:28:50.100530Z",
     "iopub.status.idle": "2024-03-31T19:28:50.109024Z",
     "shell.execute_reply": "2024-03-31T19:28:50.107913Z"
    },
    "papermill": {
     "duration": 0.024219,
     "end_time": "2024-03-31T19:28:50.111665",
     "exception": false,
     "start_time": "2024-03-31T19:28:50.087446",
     "status": "completed"
    },
    "tags": []
   },
   "outputs": [],
   "source": [
    "# Abrindo o arquivo para leitura\n",
    "a1 = open(\"/kaggle/input/testeaula/teste.txt\", \"r\")"
   ]
  },
  {
   "cell_type": "code",
   "execution_count": 17,
   "id": "6d9ea8fd",
   "metadata": {
    "execution": {
     "iopub.execute_input": "2024-03-31T19:28:50.136958Z",
     "iopub.status.busy": "2024-03-31T19:28:50.136548Z",
     "iopub.status.idle": "2024-03-31T19:28:50.142110Z",
     "shell.execute_reply": "2024-03-31T19:28:50.140911Z"
    },
    "papermill": {
     "duration": 0.021181,
     "end_time": "2024-03-31T19:28:50.144622",
     "exception": false,
     "start_time": "2024-03-31T19:28:50.123441",
     "status": "completed"
    },
    "tags": []
   },
   "outputs": [
    {
     "name": "stdout",
     "output_type": "stream",
     "text": [
      "\n"
     ]
    }
   ],
   "source": [
    "# Lendo o arquivo\n",
    "print(a1.read())"
   ]
  },
  {
   "cell_type": "markdown",
   "id": "d970d0a8",
   "metadata": {
    "papermill": {
     "duration": 0.011586,
     "end_time": "2024-03-31T19:28:50.168046",
     "exception": false,
     "start_time": "2024-03-31T19:28:50.156460",
     "status": "completed"
    },
    "tags": []
   },
   "source": [
    "#### Gravando arquivos (.txt)"
   ]
  },
  {
   "cell_type": "code",
   "execution_count": 18,
   "id": "aa41ec4f",
   "metadata": {
    "execution": {
     "iopub.execute_input": "2024-03-31T19:28:50.192936Z",
     "iopub.status.busy": "2024-03-31T19:28:50.192463Z",
     "iopub.status.idle": "2024-03-31T19:28:50.199411Z",
     "shell.execute_reply": "2024-03-31T19:28:50.198547Z"
    },
    "papermill": {
     "duration": 0.022036,
     "end_time": "2024-03-31T19:28:50.201595",
     "exception": false,
     "start_time": "2024-03-31T19:28:50.179559",
     "status": "completed"
    },
    "tags": []
   },
   "outputs": [
    {
     "name": "stdout",
     "output_type": "stream",
     "text": [
      "Arquivo 'teste.txt' salvo com sucesso em /kaggle/working/\n"
     ]
    }
   ],
   "source": [
    "# Abrindo o arquivo para gravação\n",
    "with open(\"/kaggle/working/teste.txt\", 'w') as a2:\n",
    "   a2.write('Teste Kaggle')\n",
    "\n",
    "print(\"Arquivo 'teste.txt' salvo com sucesso em /kaggle/working/\")\n"
   ]
  },
  {
   "cell_type": "code",
   "execution_count": 19,
   "id": "16243b06",
   "metadata": {
    "execution": {
     "iopub.execute_input": "2024-03-31T19:28:50.226693Z",
     "iopub.status.busy": "2024-03-31T19:28:50.226259Z",
     "iopub.status.idle": "2024-03-31T19:28:50.231584Z",
     "shell.execute_reply": "2024-03-31T19:28:50.230500Z"
    },
    "papermill": {
     "duration": 0.020568,
     "end_time": "2024-03-31T19:28:50.233882",
     "exception": false,
     "start_time": "2024-03-31T19:28:50.213314",
     "status": "completed"
    },
    "tags": []
   },
   "outputs": [],
   "source": [
    "# Abrindo o arquivo para leitura\n",
    "a2 = open(\"/kaggle/working/teste.txt\", \"r\")"
   ]
  },
  {
   "cell_type": "code",
   "execution_count": 20,
   "id": "3b015306",
   "metadata": {
    "execution": {
     "iopub.execute_input": "2024-03-31T19:28:50.259923Z",
     "iopub.status.busy": "2024-03-31T19:28:50.259477Z",
     "iopub.status.idle": "2024-03-31T19:28:50.265187Z",
     "shell.execute_reply": "2024-03-31T19:28:50.264044Z"
    },
    "papermill": {
     "duration": 0.021888,
     "end_time": "2024-03-31T19:28:50.267304",
     "exception": false,
     "start_time": "2024-03-31T19:28:50.245416",
     "status": "completed"
    },
    "tags": []
   },
   "outputs": [
    {
     "name": "stdout",
     "output_type": "stream",
     "text": [
      "Teste Kaggle\n"
     ]
    }
   ],
   "source": [
    "# Imprimindo arquivo\n",
    "print(a2.read())"
   ]
  },
  {
   "cell_type": "code",
   "execution_count": null,
   "id": "1136d042",
   "metadata": {
    "papermill": {
     "duration": 0.011355,
     "end_time": "2024-03-31T19:28:50.290407",
     "exception": false,
     "start_time": "2024-03-31T19:28:50.279052",
     "status": "completed"
    },
    "tags": []
   },
   "outputs": [],
   "source": []
  },
  {
   "cell_type": "code",
   "execution_count": null,
   "id": "cef0c63f",
   "metadata": {
    "papermill": {
     "duration": 0.011335,
     "end_time": "2024-03-31T19:28:50.313678",
     "exception": false,
     "start_time": "2024-03-31T19:28:50.302343",
     "status": "completed"
    },
    "tags": []
   },
   "outputs": [],
   "source": []
  }
 ],
 "metadata": {
  "kaggle": {
   "accelerator": "none",
   "dataSources": [
    {
     "datasetId": 4680178,
     "sourceId": 7956846,
     "sourceType": "datasetVersion"
    },
    {
     "datasetId": 4680235,
     "sourceId": 7956922,
     "sourceType": "datasetVersion"
    },
    {
     "datasetId": 4680356,
     "sourceId": 7957071,
     "sourceType": "datasetVersion"
    }
   ],
   "dockerImageVersionId": 30673,
   "isGpuEnabled": false,
   "isInternetEnabled": false,
   "language": "python",
   "sourceType": "notebook"
  },
  "kernelspec": {
   "display_name": "Python 3",
   "language": "python",
   "name": "python3"
  },
  "language_info": {
   "codemirror_mode": {
    "name": "ipython",
    "version": 3
   },
   "file_extension": ".py",
   "mimetype": "text/x-python",
   "name": "python",
   "nbconvert_exporter": "python",
   "pygments_lexer": "ipython3",
   "version": "3.10.13"
  },
  "papermill": {
   "default_parameters": {},
   "duration": 4.433132,
   "end_time": "2024-03-31T19:28:50.747264",
   "environment_variables": {},
   "exception": null,
   "input_path": "__notebook__.ipynb",
   "output_path": "__notebook__.ipynb",
   "parameters": {},
   "start_time": "2024-03-31T19:28:46.314132",
   "version": "2.5.0"
  }
 },
 "nbformat": 4,
 "nbformat_minor": 5
}
